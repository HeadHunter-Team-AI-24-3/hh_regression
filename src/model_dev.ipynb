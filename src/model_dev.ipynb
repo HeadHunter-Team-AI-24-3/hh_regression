{
 "cells": [
  {
   "cell_type": "code",
   "execution_count": 1,
   "metadata": {
    "ExecuteTime": {
     "end_time": "2024-12-07T08:50:08.138968Z",
     "start_time": "2024-12-07T08:50:07.249498Z"
    }
   },
   "outputs": [],
   "source": [
    "import pandas as pd\n",
    "pd.set_option('display.max_columns', None)\n",
    "from sklearn.metrics import mean_squared_error, r2_score\n",
    "import numpy as np\n",
    "from sklearn.preprocessing import OneHotEncoder, LabelEncoder, StandardScaler\n",
    "from sklearn.tree import DecisionTreeRegressor\n",
    "from sklearn.model_selection import train_test_split, GridSearchCV\n",
    "from sklearn.compose import TransformedTargetRegressor"
   ]
  },
  {
   "cell_type": "code",
   "execution_count": 2,
   "metadata": {
    "ExecuteTime": {
     "end_time": "2024-12-07T08:50:20.996105Z",
     "start_time": "2024-12-07T08:50:12.180572Z"
    }
   },
   "outputs": [
    {
     "name": "stderr",
     "output_type": "stream",
     "text": [
      "/var/folders/g1/rcf5s50d0ydgjmlp2c1xd1lw0000gn/T/ipykernel_62370/3256622434.py:1: DtypeWarning: Columns (14) have mixed types. Specify dtype option on import or set low_memory=False.\n",
      "  df = pd.read_csv('final_data.csv')\n",
      "/var/folders/g1/rcf5s50d0ydgjmlp2c1xd1lw0000gn/T/ipykernel_62370/3256622434.py:2: FutureWarning: A value is trying to be set on a copy of a DataFrame or Series through chained assignment using an inplace method.\n",
      "The behavior will change in pandas 3.0. This inplace method will never work because the intermediate object on which we are setting values always behaves as a copy.\n",
      "\n",
      "For example, when doing 'df[col].method(value, inplace=True)', try using 'df.method({col: value}, inplace=True)' or df[col] = df[col].method(value) instead, to perform the operation inplace on the original object.\n",
      "\n",
      "\n",
      "  df.salary_gross.fillna(False, inplace=True)\n",
      "/var/folders/g1/rcf5s50d0ydgjmlp2c1xd1lw0000gn/T/ipykernel_62370/3256622434.py:2: FutureWarning: Downcasting object dtype arrays on .fillna, .ffill, .bfill is deprecated and will change in a future version. Call result.infer_objects(copy=False) instead. To opt-in to the future behavior, set `pd.set_option('future.no_silent_downcasting', True)`\n",
      "  df.salary_gross.fillna(False, inplace=True)\n"
     ]
    },
    {
     "data": {
      "text/plain": "(709524, 43)"
     },
     "execution_count": 2,
     "metadata": {},
     "output_type": "execute_result"
    }
   ],
   "source": [
    "df = pd.read_csv('final_data.csv')\n",
    "df.salary_gross.fillna(False, inplace=True)\n",
    "df.shape"
   ]
  },
  {
   "cell_type": "markdown",
   "metadata": {},
   "source": [
    "### Mean Baseline model"
   ]
  },
  {
   "cell_type": "code",
   "execution_count": 5,
   "metadata": {
    "ExecuteTime": {
     "end_time": "2024-12-07T08:50:53.521086Z",
     "start_time": "2024-12-07T08:50:53.492813Z"
    }
   },
   "outputs": [
    {
     "name": "stdout",
     "output_type": "stream",
     "text": [
      "Корень из среднеквадратичной ошибки (RMSE): 99590.3098849821\n"
     ]
    }
   ],
   "source": [
    "mean_salary = df['salary'].mean()\n",
    "\n",
    "mse = mean_squared_error(df['salary'].values, np.full(df.shape[0], mean_salary))\n",
    "r2 = r2_score(df['salary'].values, np.full(df.shape[0], mean_salary))\n",
    "\n",
    "print(f'Корень из среднеквадратичной ошибки (RMSE): {mse**0.5}')"
   ]
  },
  {
   "cell_type": "markdown",
   "metadata": {},
   "source": [
    "### Подготовка данных к обучению"
   ]
  },
  {
   "cell_type": "code",
   "execution_count": 6,
   "metadata": {
    "ExecuteTime": {
     "end_time": "2024-12-07T08:50:55.390013Z",
     "start_time": "2024-12-07T08:50:55.369497Z"
    }
   },
   "outputs": [],
   "source": [
    "cat_columns = ['premium', 'has_test', 'response_letter_required', 'area_name', 'salary_currency', 'salary_gross', 'type_name', 'address_city', 'address_metro_station_name', 'address_metro_line_name', 'address_metro_stations_0_line_name', 'archived', 'employer_name', 'employer_accredited_it_employer', 'employer_trusted', 'schedule_name', 'accept_temporary', 'professional_roles_0_name', 'accept_incomplete_resumes', 'experience_name', 'employment_name', 'address_metro_stations_3_station_name', 'address_metro_stations_3_line_name', 'working_time_intervals_0_name', 'working_time_modes_0_name', 'working_days_0_name', 'branding_type', 'branding_tariff', 'department_name', 'insider_interview_id', 'brand_snippet_logo', 'brand_snippet_picture', 'brand_snippet_background_color', 'brand_snippet_background_gradient_angle', 'brand_snippet_background_gradient_color_list_0_position', 'brand_snippet_background_gradient_color_list_1_position', 'category']\n",
    "text_columns = ['name', 'snippet_requirement', 'snippet_responsibility']\n",
    "num_columns = ['name_length', 'length']"
   ]
  },
  {
   "cell_type": "code",
   "execution_count": 7,
   "metadata": {
    "ExecuteTime": {
     "end_time": "2024-12-07T08:50:56.834958Z",
     "start_time": "2024-12-07T08:50:56.805616Z"
    }
   },
   "outputs": [],
   "source": [
    "scaler = StandardScaler()\n",
    "num_df = pd.DataFrame(scaler.fit_transform(df[num_columns]), columns=num_columns)"
   ]
  },
  {
   "cell_type": "code",
   "execution_count": 8,
   "metadata": {
    "ExecuteTime": {
     "end_time": "2024-12-07T08:51:02.793476Z",
     "start_time": "2024-12-07T08:50:58.197326Z"
    }
   },
   "outputs": [
    {
     "data": {
      "text/plain": "        area_name  address_city  address_metro_station_name  \\\n0            3284          4395                         167   \n1            3284          4395                          34   \n2            3284          4395                         283   \n3            1987          4395                          99   \n4            3466          4395                           1   \n...           ...           ...                         ...   \n709519       4618          6209                         392   \n709520       4618          6209                         337   \n709521       3284          4395                         392   \n709522       2514          3390                         249   \n709523       3284          4395                         392   \n\n        address_metro_line_name  address_metro_stations_0_line_name  \\\n0                            14                                  14   \n1                            19                                  19   \n2                             5                                   5   \n3                             2                                   2   \n4                             7                                   7   \n...                         ...                                 ...   \n709519                       13                                  13   \n709520                       10                                  10   \n709521                       13                                  13   \n709522                       25                                  25   \n709523                       13                                  13   \n\n        employer_name  professional_roles_0_name  \\\n0               61563                         84   \n1               95441                         46   \n2               91973                         46   \n3               46854                         46   \n4              128549                         55   \n...               ...                        ...   \n709519         113906                        115   \n709520          76081                         28   \n709521          17924                        115   \n709522          62999                         84   \n709523          90481                        160   \n\n        address_metro_stations_3_station_name  \\\n0                                           0   \n1                                           0   \n2                                           0   \n3                                          66   \n4                                           0   \n...                                       ...   \n709519                                      0   \n709520                                      0   \n709521                                      0   \n709522                                      0   \n709523                                      0   \n\n        address_metro_stations_3_line_name  department_name  category  \n0                                        0              139         7  \n1                                        0              139        10  \n2                                        0              139        12  \n3                                       34              139         7  \n4                                        0              139         3  \n...                                    ...              ...       ...  \n709519                                   0              438         9  \n709520                                   0              139         2  \n709521                                   0              139         9  \n709522                                   0              139         7  \n709523                                   0              139         8  \n\n[709524 rows x 11 columns]",
      "text/html": "<div>\n<style scoped>\n    .dataframe tbody tr th:only-of-type {\n        vertical-align: middle;\n    }\n\n    .dataframe tbody tr th {\n        vertical-align: top;\n    }\n\n    .dataframe thead th {\n        text-align: right;\n    }\n</style>\n<table border=\"1\" class=\"dataframe\">\n  <thead>\n    <tr style=\"text-align: right;\">\n      <th></th>\n      <th>area_name</th>\n      <th>address_city</th>\n      <th>address_metro_station_name</th>\n      <th>address_metro_line_name</th>\n      <th>address_metro_stations_0_line_name</th>\n      <th>employer_name</th>\n      <th>professional_roles_0_name</th>\n      <th>address_metro_stations_3_station_name</th>\n      <th>address_metro_stations_3_line_name</th>\n      <th>department_name</th>\n      <th>category</th>\n    </tr>\n  </thead>\n  <tbody>\n    <tr>\n      <th>0</th>\n      <td>3284</td>\n      <td>4395</td>\n      <td>167</td>\n      <td>14</td>\n      <td>14</td>\n      <td>61563</td>\n      <td>84</td>\n      <td>0</td>\n      <td>0</td>\n      <td>139</td>\n      <td>7</td>\n    </tr>\n    <tr>\n      <th>1</th>\n      <td>3284</td>\n      <td>4395</td>\n      <td>34</td>\n      <td>19</td>\n      <td>19</td>\n      <td>95441</td>\n      <td>46</td>\n      <td>0</td>\n      <td>0</td>\n      <td>139</td>\n      <td>10</td>\n    </tr>\n    <tr>\n      <th>2</th>\n      <td>3284</td>\n      <td>4395</td>\n      <td>283</td>\n      <td>5</td>\n      <td>5</td>\n      <td>91973</td>\n      <td>46</td>\n      <td>0</td>\n      <td>0</td>\n      <td>139</td>\n      <td>12</td>\n    </tr>\n    <tr>\n      <th>3</th>\n      <td>1987</td>\n      <td>4395</td>\n      <td>99</td>\n      <td>2</td>\n      <td>2</td>\n      <td>46854</td>\n      <td>46</td>\n      <td>66</td>\n      <td>34</td>\n      <td>139</td>\n      <td>7</td>\n    </tr>\n    <tr>\n      <th>4</th>\n      <td>3466</td>\n      <td>4395</td>\n      <td>1</td>\n      <td>7</td>\n      <td>7</td>\n      <td>128549</td>\n      <td>55</td>\n      <td>0</td>\n      <td>0</td>\n      <td>139</td>\n      <td>3</td>\n    </tr>\n    <tr>\n      <th>...</th>\n      <td>...</td>\n      <td>...</td>\n      <td>...</td>\n      <td>...</td>\n      <td>...</td>\n      <td>...</td>\n      <td>...</td>\n      <td>...</td>\n      <td>...</td>\n      <td>...</td>\n      <td>...</td>\n    </tr>\n    <tr>\n      <th>709519</th>\n      <td>4618</td>\n      <td>6209</td>\n      <td>392</td>\n      <td>13</td>\n      <td>13</td>\n      <td>113906</td>\n      <td>115</td>\n      <td>0</td>\n      <td>0</td>\n      <td>438</td>\n      <td>9</td>\n    </tr>\n    <tr>\n      <th>709520</th>\n      <td>4618</td>\n      <td>6209</td>\n      <td>337</td>\n      <td>10</td>\n      <td>10</td>\n      <td>76081</td>\n      <td>28</td>\n      <td>0</td>\n      <td>0</td>\n      <td>139</td>\n      <td>2</td>\n    </tr>\n    <tr>\n      <th>709521</th>\n      <td>3284</td>\n      <td>4395</td>\n      <td>392</td>\n      <td>13</td>\n      <td>13</td>\n      <td>17924</td>\n      <td>115</td>\n      <td>0</td>\n      <td>0</td>\n      <td>139</td>\n      <td>9</td>\n    </tr>\n    <tr>\n      <th>709522</th>\n      <td>2514</td>\n      <td>3390</td>\n      <td>249</td>\n      <td>25</td>\n      <td>25</td>\n      <td>62999</td>\n      <td>84</td>\n      <td>0</td>\n      <td>0</td>\n      <td>139</td>\n      <td>7</td>\n    </tr>\n    <tr>\n      <th>709523</th>\n      <td>3284</td>\n      <td>4395</td>\n      <td>392</td>\n      <td>13</td>\n      <td>13</td>\n      <td>90481</td>\n      <td>160</td>\n      <td>0</td>\n      <td>0</td>\n      <td>139</td>\n      <td>8</td>\n    </tr>\n  </tbody>\n</table>\n<p>709524 rows × 11 columns</p>\n</div>"
     },
     "execution_count": 8,
     "metadata": {},
     "output_type": "execute_result"
    }
   ],
   "source": [
    "label_columns = []\n",
    "ohe_columns = []\n",
    "\n",
    "for column in cat_columns:\n",
    "    if df[column].nunique() > 10:\n",
    "        label_columns.append(column)\n",
    "    else:\n",
    "        ohe_columns.append(column)\n",
    "\n",
    "to_bool = list(df[cat_columns].select_dtypes(include=['bool']).columns)\n",
    "df[['salary_gross', 'employer_accredited_it_employer']] = df[['salary_gross', 'employer_accredited_it_employer']].astype(bool).astype(int)\n",
    "df[to_bool] = df[to_bool].astype(int)\n",
    "\n",
    "ohe = OneHotEncoder(sparse_output=False, drop='first')\n",
    "ohe_encoded = ohe.fit_transform(df[ohe_columns])\n",
    "ohe_feature_names = ohe.get_feature_names_out(ohe_columns).tolist()\n",
    "encoded_ohe_data = pd.DataFrame(ohe_encoded, columns=ohe_feature_names)\n",
    "\n",
    "label_encoder = LabelEncoder()\n",
    "for col in label_columns:\n",
    "    df[col] = label_encoder.fit_transform(df[col])\n",
    "df[label_columns]"
   ]
  },
  {
   "cell_type": "code",
   "execution_count": 9,
   "metadata": {
    "ExecuteTime": {
     "end_time": "2024-12-07T08:51:20.047160Z",
     "start_time": "2024-12-07T08:51:19.609224Z"
    }
   },
   "outputs": [],
   "source": [
    "X = pd.concat([df[label_columns], encoded_ohe_data, num_df], axis=1)\n",
    "y = df['salary']"
   ]
  },
  {
   "cell_type": "code",
   "execution_count": 14,
   "metadata": {
    "ExecuteTime": {
     "end_time": "2024-12-07T09:23:08.854015Z",
     "start_time": "2024-12-07T09:23:08.346105Z"
    }
   },
   "outputs": [
    {
     "name": "stdout",
     "output_type": "stream",
     "text": [
      "162180    220000.0\n",
      "478536     40000.0\n",
      "234686     40000.0\n",
      "366018     42400.0\n",
      "654961    115000.0\n",
      "            ...   \n",
      "73421      67500.0\n",
      "410992    223000.0\n",
      "698251     80000.0\n",
      "297282     70000.0\n",
      "301119     84197.6\n",
      "Name: salary, Length: 283810, dtype: float64\n",
      "Размеры выборок: Обучающая (425714, 70), Валидационная (141905, 70), Тестовая (141905, 70)\n"
     ]
    }
   ],
   "source": [
    "X_train, X_test_val, y_train, y_test_val, = train_test_split(X, y, test_size=0.4, random_state=12345)\n",
    "X_test, X_val, y_test, y_val = train_test_split(X_test_val, y_test_val, test_size=0.5, random_state=12345)\n",
    "\n",
    "print(f'Размеры выборок: Обучающая {X_train.shape}, Валидационная {X_test.shape}, Тестовая {X_val.shape}')"
   ]
  },
  {
   "cell_type": "code",
   "execution_count": 11,
   "metadata": {
    "ExecuteTime": {
     "end_time": "2024-12-07T08:52:12.407011Z",
     "start_time": "2024-12-07T08:51:35.863896Z"
    }
   },
   "outputs": [
    {
     "name": "stdout",
     "output_type": "stream",
     "text": [
      "Fitting 3 folds for each of 28 candidates, totalling 84 fits\n",
      "Лучшие параметры: {'regressor__max_depth': 15, 'regressor__min_samples_leaf': 2, 'regressor__min_samples_split': 5}\n",
      "Корень из среднеквадратичной ошибки (RMSE): 49027.495687209725\n"
     ]
    }
   ],
   "source": [
    "model_dtr = DecisionTreeRegressor(random_state=12345)\n",
    "\n",
    "regressor = TransformedTargetRegressor(\n",
    "    regressor=model_dtr,\n",
    "    func=np.log,\n",
    "    inverse_func=np.exp\n",
    ")\n",
    "\n",
    "\n",
    "param_grid = {\n",
    "    'regressor__max_depth': [10, 11, 12, 13, 14, 15, 16],\n",
    "    'regressor__min_samples_split': [2, 5], \n",
    "    'regressor__min_samples_leaf': [1, 2]\n",
    "}\n",
    "\n",
    "grid_search = GridSearchCV(\n",
    "    estimator=regressor,\n",
    "    param_grid=param_grid,\n",
    "    cv=3,\n",
    "    scoring='neg_mean_squared_error',\n",
    "    n_jobs=-1,\n",
    "    verbose=2\n",
    ")\n",
    "\n",
    "grid_search.fit(X_train, y_train)\n",
    "\n",
    "best_model = grid_search.best_estimator_\n",
    "best_params = grid_search.best_params_\n",
    "print(f'Лучшие параметры: {best_params}')\n",
    "\n",
    "\n",
    "y_pred = best_model.predict(X_test)\n",
    "test_mse = mean_squared_error(y_test, y_pred)\n",
    "print(f'Корень из среднеквадратичной ошибки (RMSE): {test_mse**0.5}')"
   ]
  },
  {
   "cell_type": "markdown",
   "source": [
    "### Кросс-валидации модели"
   ],
   "metadata": {
    "collapsed": false
   }
  },
  {
   "cell_type": "markdown",
   "source": [
    "#### Обучающая выборка"
   ],
   "metadata": {
    "collapsed": false
   }
  },
  {
   "cell_type": "code",
   "execution_count": 25,
   "metadata": {
    "ExecuteTime": {
     "end_time": "2024-12-07T16:23:44.936075Z",
     "start_time": "2024-12-07T16:23:40.434565Z"
    }
   },
   "outputs": [
    {
     "name": "stdout",
     "output_type": "stream",
     "text": [
      "Средний MSE по кросс-валидации на обучающей выборке: 11602588176.1473\n",
      "Стандартное отклонение MSE на обучающей выборке: 11184916946.7310\n",
      "Средний RMSE по кросс-валидации на обучающей выборке: 107715.3108\n",
      "Стандартное отклонение RMSE на обучающей выборке: 105758.7677\n"
     ]
    }
   ],
   "source": [
    "from sklearn.model_selection import cross_val_score, KFold\n",
    "from sklearn.linear_model import LinearRegression\n",
    "from sklearn.metrics import mean_squared_error\n",
    "import numpy as np\n",
    "\n",
    "model = LinearRegression()\n",
    "\n",
    "kfold = KFold(n_splits=5, shuffle=True, random_state=42)\n",
    "\n",
    "cv_scores = cross_val_score(model, X_train, y_train, cv=kfold, scoring='neg_mean_squared_error')\n",
    "\n",
    "mean_mse = -np.mean(cv_scores)\n",
    "std_mse = np.std(cv_scores)\n",
    "\n",
    "print(f\"Средний MSE по кросс-валидации на обучающей выборке: {mean_mse:.4f}\")\n",
    "print(f\"Стандартное отклонение MSE на обучающей выборке: {std_mse:.4f}\")\n",
    "print(f\"Средний RMSE по кросс-валидации на обучающей выборке: {mean_mse**0.5:.4f}\")\n",
    "print(f\"Стандартное отклонение RMSE на обучающей выборке: {std_mse**0.5:.4f}\")"
   ]
  },
  {
   "cell_type": "markdown",
   "source": [
    "#### Тестовая выборка"
   ],
   "metadata": {
    "collapsed": false
   }
  },
  {
   "cell_type": "code",
   "execution_count": 27,
   "outputs": [
    {
     "name": "stdout",
     "output_type": "stream",
     "text": [
      "Средний MSE по кросс-валидации: 4105919474.3884\n",
      "Стандартное отклонение MSE: 660828429.6468\n",
      "Средний RMSE по кросс-валидации: 64077.4490\n",
      "Стандартное отклонение RMSE: 25706.5834\n"
     ]
    }
   ],
   "source": [
    "cv_scores_test = cross_val_score(model, X_test, y_test, cv=kfold, scoring='neg_mean_squared_error')\n",
    "\n",
    "mean_mse_test = -np.mean(cv_scores_test)\n",
    "std_mse_test = np.std(cv_scores_test)\n",
    "\n",
    "print(f\"Средний MSE по кросс-валидации: {mean_mse_test:.4f}\")\n",
    "print(f\"Стандартное отклонение MSE: {std_mse_test:.4f}\")\n",
    "print(f\"Средний RMSE по кросс-валидации: {mean_mse_test**0.5:.4f}\")\n",
    "print(f\"Стандартное отклонение RMSE: {std_mse_test**0.5:.4f}\")"
   ],
   "metadata": {
    "collapsed": false,
    "ExecuteTime": {
     "end_time": "2024-12-07T16:24:18.038503Z",
     "start_time": "2024-12-07T16:24:16.721502Z"
    }
   }
  },
  {
   "cell_type": "code",
   "execution_count": null,
   "outputs": [],
   "source": [],
   "metadata": {
    "collapsed": false
   }
  }
 ],
 "metadata": {
  "kernelspec": {
   "display_name": "Python 3",
   "language": "python",
   "name": "python3"
  },
  "language_info": {
   "codemirror_mode": {
    "name": "ipython",
    "version": 3
   },
   "file_extension": ".py",
   "mimetype": "text/x-python",
   "name": "python",
   "nbconvert_exporter": "python",
   "pygments_lexer": "ipython3",
   "version": "3.10.4"
  }
 },
 "nbformat": 4,
 "nbformat_minor": 2
}
