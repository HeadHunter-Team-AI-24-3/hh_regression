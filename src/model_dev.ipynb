{
  "cells": [
    {
      "cell_type": "code",
      "execution_count": null,
      "metadata": {
        "ExecuteTime": {
          "end_time": "2024-12-07T08:50:08.138968Z",
          "start_time": "2024-12-07T08:50:07.249498Z"
        },
        "id": "uOaT-DAHVFkm"
      },
      "outputs": [],
      "source": [
        "import pandas as pd\n",
        "pd.set_option('display.max_columns', None)\n",
        "from sklearn.metrics import mean_squared_error, r2_score, median_absolute_error, mean_absolute_error\n",
        "import numpy as np\n",
        "from sklearn.preprocessing import OneHotEncoder, LabelEncoder, StandardScaler\n",
        "from sklearn.tree import DecisionTreeRegressor\n",
        "from sklearn.model_selection import train_test_split, GridSearchCV, KFold\n",
        "from sklearn.compose import TransformedTargetRegressor\n",
        "from sklearn.ensemble import RandomForestRegressor\n",
        "from sklearn.linear_model import Ridge\n",
        "from catboost import CatBoostRegressor\n",
        "from xgboost import XGBRegressor\n",
        "import warnings\n",
        "warnings.filterwarnings(\"ignore\")"
      ]
    },
    {
      "cell_type": "code",
      "source": [
        "df = pd.read_csv('final_data.csv')\n",
        "df.salary_gross.fillna(False, inplace=True)\n",
        "df.shape"
      ],
      "metadata": {
        "colab": {
          "base_uri": "https://localhost:8080/"
        },
        "id": "_-rmjcJiZzSv",
        "outputId": "86dbc597-6553-463c-b449-38321d031721"
      },
      "execution_count": null,
      "outputs": [
        {
          "output_type": "execute_result",
          "data": {
            "text/plain": [
              "(709524, 47)"
            ]
          },
          "metadata": {},
          "execution_count": 103
        }
      ]
    },
    {
      "cell_type": "code",
      "execution_count": null,
      "metadata": {
        "id": "Cs52Y2biUHZQ"
      },
      "outputs": [],
      "source": [
        "def culc_metrics(y_test, y_pred):\n",
        "    test_mse = mean_squared_error(y_test, y_pred)\n",
        "    rmse = test_mse**0.5\n",
        "    r2 = r2_score(y_test, y_pred)\n",
        "    mae = mean_absolute_error(y_test, y_pred)\n",
        "\n",
        "    def symmetric_mean_absolute_percentage_error(y_true, y_pred):\n",
        "        y_true = np.array(y_true)\n",
        "        y_pred = np.array(y_pred)\n",
        "        smape = 100 * np.mean(2 * np.abs(y_true - y_pred) / (np.abs(y_true) + np.abs(y_pred)))\n",
        "        return smape\n",
        "\n",
        "    smape = symmetric_mean_absolute_percentage_error(y_test, y_pred)\n",
        "\n",
        "    medae = median_absolute_error(y_test, y_pred)\n",
        "\n",
        "    print(f'Корень из среднеквадратичной ошибки (RMSE): {rmse}')\n",
        "    print(f\"R² Score: {r2}\")\n",
        "    print(f\"Средняя абсолютная ошибка (MAE): {mae}\")\n",
        "    print(f\"Средняя абсолютная процентная ошибка (SMAPE): {smape:.2f}%\")\n",
        "    print(f\"Медианная абсолютная ошибка (MedAE): {medae}\")"
      ]
    },
    {
      "cell_type": "markdown",
      "metadata": {
        "id": "HqLbkIV4VFlT"
      },
      "source": [
        "### Mean Baseline model"
      ]
    },
    {
      "cell_type": "code",
      "execution_count": null,
      "metadata": {
        "ExecuteTime": {
          "end_time": "2024-12-07T08:50:53.521086Z",
          "start_time": "2024-12-07T08:50:53.492813Z"
        },
        "id": "-y8s6n5SVFle",
        "outputId": "ae58a0c9-af9a-4493-e362-78182dd7e5cb"
      },
      "outputs": [
        {
          "name": "stdout",
          "output_type": "stream",
          "text": [
            "Корень из среднеквадратичной ошибки (RMSE): 99590.3098849821\n",
            "R² Score: 0.0\n",
            "Средняя абсолютная ошибка (MAE): 42519.63234325419\n",
            "Средняя абсолютная процентная ошибка (SMAPE): 46.64%\n",
            "Медианная абсолютная ошибка (MedAE): 34089.93807447741\n"
          ]
        }
      ],
      "source": [
        "mean_salary = df['salary'].mean()\n",
        "\n",
        "predictions = np.full(df.shape[0], mean_salary)\n",
        "true_values = df['salary'].values\n",
        "\n",
        "culc_metrics(true_values, predictions)"
      ]
    },
    {
      "cell_type": "markdown",
      "metadata": {
        "id": "bJVF9NkEVFlk"
      },
      "source": [
        "### Подготовка данных к обучению"
      ]
    },
    {
      "cell_type": "code",
      "execution_count": null,
      "metadata": {
        "ExecuteTime": {
          "end_time": "2024-12-07T08:50:55.390013Z",
          "start_time": "2024-12-07T08:50:55.369497Z"
        },
        "id": "DpJcJbmTVFln"
      },
      "outputs": [],
      "source": [
        "cat_columns = ['premium', 'has_test', 'response_letter_required', 'area_name', 'salary_currency', 'salary_gross', 'type_name', 'address_city', 'address_metro_station_name', 'address_metro_line_name', 'address_metro_stations_0_line_name', 'archived', 'employer_name', 'employer_accredited_it_employer', 'employer_trusted', 'schedule_name', 'accept_temporary', 'professional_roles_0_name', 'accept_incomplete_resumes', 'experience_name', 'employment_name', 'address_metro_stations_3_station_name', 'address_metro_stations_3_line_name', 'working_time_intervals_0_name', 'working_time_modes_0_name', 'working_days_0_name', 'branding_type', 'branding_tariff', 'department_name', 'insider_interview_id', 'brand_snippet_logo', 'brand_snippet_picture', 'brand_snippet_background_color', 'brand_snippet_background_gradient_angle', 'brand_snippet_background_gradient_color_list_0_position', 'brand_snippet_background_gradient_color_list_1_position', 'category']\n",
        "text_columns = ['name', 'snippet_requirement', 'snippet_responsibility']\n",
        "num_columns = ['name_length', 'length']"
      ]
    },
    {
      "cell_type": "code",
      "execution_count": null,
      "metadata": {
        "ExecuteTime": {
          "end_time": "2024-12-07T08:50:56.834958Z",
          "start_time": "2024-12-07T08:50:56.805616Z"
        },
        "id": "eOBlWihwVFlt"
      },
      "outputs": [],
      "source": [
        "scaler = StandardScaler()\n",
        "num_df = pd.DataFrame(scaler.fit_transform(df[num_columns]), columns=num_columns)"
      ]
    },
    {
      "cell_type": "code",
      "execution_count": null,
      "metadata": {
        "ExecuteTime": {
          "end_time": "2024-12-07T08:51:02.793476Z",
          "start_time": "2024-12-07T08:50:58.197326Z"
        },
        "id": "5gMHcUAoVFl6",
        "outputId": "f24b2e23-1e74-4511-cf1a-0409ecae0467"
      },
      "outputs": [
        {
          "data": {
            "application/vnd.microsoft.datawrangler.viewer.v0+json": {
              "columns": [
                {
                  "name": "index",
                  "rawType": "int64",
                  "type": "integer"
                },
                {
                  "name": "area_name",
                  "rawType": "int64",
                  "type": "integer"
                },
                {
                  "name": "address_city",
                  "rawType": "int64",
                  "type": "integer"
                },
                {
                  "name": "address_metro_station_name",
                  "rawType": "int64",
                  "type": "integer"
                },
                {
                  "name": "address_metro_line_name",
                  "rawType": "int64",
                  "type": "integer"
                },
                {
                  "name": "address_metro_stations_0_line_name",
                  "rawType": "int64",
                  "type": "integer"
                },
                {
                  "name": "employer_name",
                  "rawType": "int64",
                  "type": "integer"
                },
                {
                  "name": "professional_roles_0_name",
                  "rawType": "int64",
                  "type": "integer"
                },
                {
                  "name": "address_metro_stations_3_station_name",
                  "rawType": "int64",
                  "type": "integer"
                },
                {
                  "name": "address_metro_stations_3_line_name",
                  "rawType": "int64",
                  "type": "integer"
                },
                {
                  "name": "department_name",
                  "rawType": "int64",
                  "type": "integer"
                },
                {
                  "name": "category",
                  "rawType": "int64",
                  "type": "integer"
                }
              ],
              "conversionMethod": "pd.DataFrame",
              "ref": "0bd3a9b8-7062-443e-a3a0-6ffbab07c12e",
              "rows": [
                [
                  "0",
                  "3284",
                  "4395",
                  "167",
                  "14",
                  "14",
                  "61563",
                  "84",
                  "0",
                  "0",
                  "139",
                  "7"
                ],
                [
                  "1",
                  "3284",
                  "4395",
                  "34",
                  "19",
                  "19",
                  "95441",
                  "46",
                  "0",
                  "0",
                  "139",
                  "10"
                ],
                [
                  "2",
                  "3284",
                  "4395",
                  "283",
                  "5",
                  "5",
                  "91973",
                  "46",
                  "0",
                  "0",
                  "139",
                  "12"
                ],
                [
                  "3",
                  "1987",
                  "4395",
                  "99",
                  "2",
                  "2",
                  "46854",
                  "46",
                  "66",
                  "34",
                  "139",
                  "7"
                ],
                [
                  "4",
                  "3466",
                  "4395",
                  "1",
                  "7",
                  "7",
                  "128549",
                  "55",
                  "0",
                  "0",
                  "139",
                  "3"
                ],
                [
                  "5",
                  "3663",
                  "4395",
                  "4",
                  "5",
                  "5",
                  "112206",
                  "157",
                  "0",
                  "0",
                  "139",
                  "11"
                ],
                [
                  "6",
                  "3284",
                  "4395",
                  "1",
                  "7",
                  "7",
                  "51947",
                  "159",
                  "0",
                  "0",
                  "139",
                  "12"
                ],
                [
                  "7",
                  "3284",
                  "4395",
                  "58",
                  "14",
                  "14",
                  "46314",
                  "159",
                  "0",
                  "0",
                  "139",
                  "1"
                ],
                [
                  "8",
                  "3284",
                  "3972",
                  "116",
                  "33",
                  "33",
                  "63363",
                  "25",
                  "0",
                  "0",
                  "139",
                  "11"
                ],
                [
                  "9",
                  "3284",
                  "4395",
                  "14",
                  "29",
                  "29",
                  "58919",
                  "25",
                  "256",
                  "6",
                  "139",
                  "11"
                ],
                [
                  "10",
                  "3284",
                  "4395",
                  "58",
                  "14",
                  "14",
                  "69715",
                  "65",
                  "218",
                  "28",
                  "139",
                  "11"
                ],
                [
                  "11",
                  "3284",
                  "4395",
                  "116",
                  "33",
                  "33",
                  "119563",
                  "9",
                  "246",
                  "17",
                  "139",
                  "7"
                ],
                [
                  "12",
                  "3284",
                  "4395",
                  "35",
                  "5",
                  "5",
                  "107576",
                  "46",
                  "256",
                  "6",
                  "139",
                  "12"
                ],
                [
                  "13",
                  "3284",
                  "7613",
                  "453",
                  "5",
                  "5",
                  "114657",
                  "45",
                  "0",
                  "0",
                  "139",
                  "5"
                ],
                [
                  "14",
                  "3284",
                  "4395",
                  "304",
                  "33",
                  "33",
                  "23760",
                  "46",
                  "0",
                  "0",
                  "139",
                  "11"
                ],
                [
                  "15",
                  "3284",
                  "4395",
                  "58",
                  "14",
                  "14",
                  "123728",
                  "106",
                  "0",
                  "0",
                  "139",
                  "7"
                ],
                [
                  "16",
                  "3284",
                  "4395",
                  "331",
                  "30",
                  "30",
                  "56598",
                  "46",
                  "279",
                  "24",
                  "139",
                  "8"
                ],
                [
                  "17",
                  "3284",
                  "4395",
                  "475",
                  "1",
                  "1",
                  "39575",
                  "84",
                  "0",
                  "0",
                  "139",
                  "7"
                ],
                [
                  "18",
                  "3284",
                  "4395",
                  "299",
                  "17",
                  "17",
                  "137255",
                  "103",
                  "0",
                  "0",
                  "139",
                  "10"
                ],
                [
                  "19",
                  "3284",
                  "4395",
                  "30",
                  "1",
                  "1",
                  "100048",
                  "51",
                  "0",
                  "0",
                  "139",
                  "3"
                ],
                [
                  "20",
                  "3284",
                  "4395",
                  "65",
                  "14",
                  "14",
                  "94653",
                  "88",
                  "177",
                  "14",
                  "139",
                  "7"
                ],
                [
                  "21",
                  "3284",
                  "4395",
                  "299",
                  "29",
                  "29",
                  "30580",
                  "46",
                  "252",
                  "14",
                  "139",
                  "7"
                ],
                [
                  "22",
                  "3284",
                  "4395",
                  "65",
                  "14",
                  "14",
                  "61143",
                  "77",
                  "177",
                  "14",
                  "139",
                  "1"
                ],
                [
                  "23",
                  "3284",
                  "4395",
                  "71",
                  "5",
                  "5",
                  "26000",
                  "6",
                  "162",
                  "6",
                  "139",
                  "11"
                ],
                [
                  "24",
                  "3284",
                  "4395",
                  "17",
                  "19",
                  "19",
                  "88961",
                  "55",
                  "274",
                  "19",
                  "139",
                  "3"
                ],
                [
                  "25",
                  "3284",
                  "4395",
                  "152",
                  "19",
                  "19",
                  "117085",
                  "112",
                  "114",
                  "14",
                  "139",
                  "4"
                ],
                [
                  "26",
                  "3284",
                  "4395",
                  "17",
                  "19",
                  "19",
                  "83675",
                  "170",
                  "0",
                  "0",
                  "139",
                  "13"
                ],
                [
                  "27",
                  "3284",
                  "4395",
                  "1",
                  "7",
                  "7",
                  "77323",
                  "38",
                  "0",
                  "0",
                  "139",
                  "3"
                ],
                [
                  "28",
                  "3284",
                  "4395",
                  "66",
                  "17",
                  "17",
                  "57634",
                  "46",
                  "169",
                  "32",
                  "139",
                  "11"
                ],
                [
                  "29",
                  "3284",
                  "7613",
                  "453",
                  "5",
                  "5",
                  "114657",
                  "46",
                  "0",
                  "0",
                  "139",
                  "5"
                ],
                [
                  "30",
                  "3284",
                  "4395",
                  "17",
                  "19",
                  "19",
                  "83675",
                  "156",
                  "0",
                  "0",
                  "139",
                  "11"
                ],
                [
                  "31",
                  "3284",
                  "4395",
                  "331",
                  "30",
                  "30",
                  "96704",
                  "158",
                  "279",
                  "2",
                  "139",
                  "11"
                ],
                [
                  "32",
                  "1765",
                  "2424",
                  "171",
                  "17",
                  "17",
                  "99469",
                  "25",
                  "0",
                  "0",
                  "139",
                  "5"
                ],
                [
                  "33",
                  "5689",
                  "4395",
                  "221",
                  "1",
                  "1",
                  "120786",
                  "84",
                  "256",
                  "6",
                  "139",
                  "7"
                ],
                [
                  "34",
                  "3284",
                  "4395",
                  "271",
                  "24",
                  "24",
                  "104105",
                  "22",
                  "198",
                  "24",
                  "139",
                  "13"
                ],
                [
                  "35",
                  "3284",
                  "4395",
                  "153",
                  "17",
                  "17",
                  "61627",
                  "25",
                  "0",
                  "0",
                  "139",
                  "11"
                ],
                [
                  "36",
                  "3284",
                  "4395",
                  "58",
                  "14",
                  "14",
                  "123728",
                  "55",
                  "0",
                  "0",
                  "139",
                  "3"
                ],
                [
                  "37",
                  "3284",
                  "4395",
                  "195",
                  "19",
                  "19",
                  "19874",
                  "115",
                  "114",
                  "17",
                  "139",
                  "9"
                ],
                [
                  "38",
                  "3284",
                  "4395",
                  "475",
                  "1",
                  "1",
                  "63278",
                  "127",
                  "0",
                  "0",
                  "139",
                  "7"
                ],
                [
                  "39",
                  "3284",
                  "4395",
                  "331",
                  "30",
                  "30",
                  "48085",
                  "84",
                  "279",
                  "24",
                  "139",
                  "7"
                ],
                [
                  "40",
                  "3284",
                  "4395",
                  "1",
                  "7",
                  "7",
                  "43865",
                  "28",
                  "0",
                  "0",
                  "139",
                  "2"
                ],
                [
                  "41",
                  "3284",
                  "4395",
                  "453",
                  "5",
                  "5",
                  "100419",
                  "70",
                  "0",
                  "0",
                  "139",
                  "11"
                ],
                [
                  "42",
                  "3284",
                  "4395",
                  "475",
                  "1",
                  "1",
                  "83260",
                  "133",
                  "0",
                  "0",
                  "139",
                  "10"
                ],
                [
                  "43",
                  "3284",
                  "4395",
                  "152",
                  "19",
                  "19",
                  "127066",
                  "146",
                  "0",
                  "0",
                  "139",
                  "12"
                ],
                [
                  "44",
                  "3284",
                  "12232",
                  "155",
                  "17",
                  "17",
                  "74486",
                  "22",
                  "231",
                  "17",
                  "139",
                  "11"
                ],
                [
                  "45",
                  "3284",
                  "3300",
                  "116",
                  "33",
                  "33",
                  "52476",
                  "159",
                  "0",
                  "0",
                  "139",
                  "10"
                ],
                [
                  "46",
                  "3284",
                  "4395",
                  "66",
                  "17",
                  "17",
                  "19874",
                  "115",
                  "282",
                  "24",
                  "139",
                  "9"
                ],
                [
                  "47",
                  "3284",
                  "4395",
                  "297",
                  "7",
                  "7",
                  "74279",
                  "115",
                  "0",
                  "0",
                  "139",
                  "9"
                ],
                [
                  "48",
                  "3284",
                  "4395",
                  "17",
                  "19",
                  "19",
                  "83675",
                  "171",
                  "0",
                  "0",
                  "139",
                  "10"
                ],
                [
                  "49",
                  "3284",
                  "4395",
                  "71",
                  "5",
                  "5",
                  "14853",
                  "156",
                  "46",
                  "17",
                  "139",
                  "11"
                ]
              ],
              "shape": {
                "columns": 11,
                "rows": 709524
              }
            },
            "text/html": [
              "<div>\n",
              "<style scoped>\n",
              "    .dataframe tbody tr th:only-of-type {\n",
              "        vertical-align: middle;\n",
              "    }\n",
              "\n",
              "    .dataframe tbody tr th {\n",
              "        vertical-align: top;\n",
              "    }\n",
              "\n",
              "    .dataframe thead th {\n",
              "        text-align: right;\n",
              "    }\n",
              "</style>\n",
              "<table border=\"1\" class=\"dataframe\">\n",
              "  <thead>\n",
              "    <tr style=\"text-align: right;\">\n",
              "      <th></th>\n",
              "      <th>area_name</th>\n",
              "      <th>address_city</th>\n",
              "      <th>address_metro_station_name</th>\n",
              "      <th>address_metro_line_name</th>\n",
              "      <th>address_metro_stations_0_line_name</th>\n",
              "      <th>employer_name</th>\n",
              "      <th>professional_roles_0_name</th>\n",
              "      <th>address_metro_stations_3_station_name</th>\n",
              "      <th>address_metro_stations_3_line_name</th>\n",
              "      <th>department_name</th>\n",
              "      <th>category</th>\n",
              "    </tr>\n",
              "  </thead>\n",
              "  <tbody>\n",
              "    <tr>\n",
              "      <th>0</th>\n",
              "      <td>3284</td>\n",
              "      <td>4395</td>\n",
              "      <td>167</td>\n",
              "      <td>14</td>\n",
              "      <td>14</td>\n",
              "      <td>61563</td>\n",
              "      <td>84</td>\n",
              "      <td>0</td>\n",
              "      <td>0</td>\n",
              "      <td>139</td>\n",
              "      <td>7</td>\n",
              "    </tr>\n",
              "    <tr>\n",
              "      <th>1</th>\n",
              "      <td>3284</td>\n",
              "      <td>4395</td>\n",
              "      <td>34</td>\n",
              "      <td>19</td>\n",
              "      <td>19</td>\n",
              "      <td>95441</td>\n",
              "      <td>46</td>\n",
              "      <td>0</td>\n",
              "      <td>0</td>\n",
              "      <td>139</td>\n",
              "      <td>10</td>\n",
              "    </tr>\n",
              "    <tr>\n",
              "      <th>2</th>\n",
              "      <td>3284</td>\n",
              "      <td>4395</td>\n",
              "      <td>283</td>\n",
              "      <td>5</td>\n",
              "      <td>5</td>\n",
              "      <td>91973</td>\n",
              "      <td>46</td>\n",
              "      <td>0</td>\n",
              "      <td>0</td>\n",
              "      <td>139</td>\n",
              "      <td>12</td>\n",
              "    </tr>\n",
              "    <tr>\n",
              "      <th>3</th>\n",
              "      <td>1987</td>\n",
              "      <td>4395</td>\n",
              "      <td>99</td>\n",
              "      <td>2</td>\n",
              "      <td>2</td>\n",
              "      <td>46854</td>\n",
              "      <td>46</td>\n",
              "      <td>66</td>\n",
              "      <td>34</td>\n",
              "      <td>139</td>\n",
              "      <td>7</td>\n",
              "    </tr>\n",
              "    <tr>\n",
              "      <th>4</th>\n",
              "      <td>3466</td>\n",
              "      <td>4395</td>\n",
              "      <td>1</td>\n",
              "      <td>7</td>\n",
              "      <td>7</td>\n",
              "      <td>128549</td>\n",
              "      <td>55</td>\n",
              "      <td>0</td>\n",
              "      <td>0</td>\n",
              "      <td>139</td>\n",
              "      <td>3</td>\n",
              "    </tr>\n",
              "    <tr>\n",
              "      <th>...</th>\n",
              "      <td>...</td>\n",
              "      <td>...</td>\n",
              "      <td>...</td>\n",
              "      <td>...</td>\n",
              "      <td>...</td>\n",
              "      <td>...</td>\n",
              "      <td>...</td>\n",
              "      <td>...</td>\n",
              "      <td>...</td>\n",
              "      <td>...</td>\n",
              "      <td>...</td>\n",
              "    </tr>\n",
              "    <tr>\n",
              "      <th>709519</th>\n",
              "      <td>4618</td>\n",
              "      <td>6209</td>\n",
              "      <td>392</td>\n",
              "      <td>13</td>\n",
              "      <td>13</td>\n",
              "      <td>113906</td>\n",
              "      <td>115</td>\n",
              "      <td>0</td>\n",
              "      <td>0</td>\n",
              "      <td>438</td>\n",
              "      <td>9</td>\n",
              "    </tr>\n",
              "    <tr>\n",
              "      <th>709520</th>\n",
              "      <td>4618</td>\n",
              "      <td>6209</td>\n",
              "      <td>337</td>\n",
              "      <td>10</td>\n",
              "      <td>10</td>\n",
              "      <td>76081</td>\n",
              "      <td>28</td>\n",
              "      <td>0</td>\n",
              "      <td>0</td>\n",
              "      <td>139</td>\n",
              "      <td>2</td>\n",
              "    </tr>\n",
              "    <tr>\n",
              "      <th>709521</th>\n",
              "      <td>3284</td>\n",
              "      <td>4395</td>\n",
              "      <td>392</td>\n",
              "      <td>13</td>\n",
              "      <td>13</td>\n",
              "      <td>17924</td>\n",
              "      <td>115</td>\n",
              "      <td>0</td>\n",
              "      <td>0</td>\n",
              "      <td>139</td>\n",
              "      <td>9</td>\n",
              "    </tr>\n",
              "    <tr>\n",
              "      <th>709522</th>\n",
              "      <td>2514</td>\n",
              "      <td>3390</td>\n",
              "      <td>249</td>\n",
              "      <td>25</td>\n",
              "      <td>25</td>\n",
              "      <td>62999</td>\n",
              "      <td>84</td>\n",
              "      <td>0</td>\n",
              "      <td>0</td>\n",
              "      <td>139</td>\n",
              "      <td>7</td>\n",
              "    </tr>\n",
              "    <tr>\n",
              "      <th>709523</th>\n",
              "      <td>3284</td>\n",
              "      <td>4395</td>\n",
              "      <td>392</td>\n",
              "      <td>13</td>\n",
              "      <td>13</td>\n",
              "      <td>90481</td>\n",
              "      <td>160</td>\n",
              "      <td>0</td>\n",
              "      <td>0</td>\n",
              "      <td>139</td>\n",
              "      <td>8</td>\n",
              "    </tr>\n",
              "  </tbody>\n",
              "</table>\n",
              "<p>709524 rows × 11 columns</p>\n",
              "</div>"
            ],
            "text/plain": [
              "        area_name  address_city  address_metro_station_name  \\\n",
              "0            3284          4395                         167   \n",
              "1            3284          4395                          34   \n",
              "2            3284          4395                         283   \n",
              "3            1987          4395                          99   \n",
              "4            3466          4395                           1   \n",
              "...           ...           ...                         ...   \n",
              "709519       4618          6209                         392   \n",
              "709520       4618          6209                         337   \n",
              "709521       3284          4395                         392   \n",
              "709522       2514          3390                         249   \n",
              "709523       3284          4395                         392   \n",
              "\n",
              "        address_metro_line_name  address_metro_stations_0_line_name  \\\n",
              "0                            14                                  14   \n",
              "1                            19                                  19   \n",
              "2                             5                                   5   \n",
              "3                             2                                   2   \n",
              "4                             7                                   7   \n",
              "...                         ...                                 ...   \n",
              "709519                       13                                  13   \n",
              "709520                       10                                  10   \n",
              "709521                       13                                  13   \n",
              "709522                       25                                  25   \n",
              "709523                       13                                  13   \n",
              "\n",
              "        employer_name  professional_roles_0_name  \\\n",
              "0               61563                         84   \n",
              "1               95441                         46   \n",
              "2               91973                         46   \n",
              "3               46854                         46   \n",
              "4              128549                         55   \n",
              "...               ...                        ...   \n",
              "709519         113906                        115   \n",
              "709520          76081                         28   \n",
              "709521          17924                        115   \n",
              "709522          62999                         84   \n",
              "709523          90481                        160   \n",
              "\n",
              "        address_metro_stations_3_station_name  \\\n",
              "0                                           0   \n",
              "1                                           0   \n",
              "2                                           0   \n",
              "3                                          66   \n",
              "4                                           0   \n",
              "...                                       ...   \n",
              "709519                                      0   \n",
              "709520                                      0   \n",
              "709521                                      0   \n",
              "709522                                      0   \n",
              "709523                                      0   \n",
              "\n",
              "        address_metro_stations_3_line_name  department_name  category  \n",
              "0                                        0              139         7  \n",
              "1                                        0              139        10  \n",
              "2                                        0              139        12  \n",
              "3                                       34              139         7  \n",
              "4                                        0              139         3  \n",
              "...                                    ...              ...       ...  \n",
              "709519                                   0              438         9  \n",
              "709520                                   0              139         2  \n",
              "709521                                   0              139         9  \n",
              "709522                                   0              139         7  \n",
              "709523                                   0              139         8  \n",
              "\n",
              "[709524 rows x 11 columns]"
            ]
          },
          "execution_count": 25,
          "metadata": {},
          "output_type": "execute_result"
        }
      ],
      "source": [
        "label_columns = []\n",
        "ohe_columns = []\n",
        "\n",
        "for column in cat_columns:\n",
        "    if df[column].nunique() > 10:\n",
        "        label_columns.append(column)\n",
        "    else:\n",
        "        ohe_columns.append(column)\n",
        "\n",
        "to_bool = list(df[cat_columns].select_dtypes(include=['bool']).columns)\n",
        "df[['salary_gross', 'employer_accredited_it_employer']] = df[['salary_gross', 'employer_accredited_it_employer']].astype(bool).astype(int)\n",
        "df[to_bool] = df[to_bool].astype(int)\n",
        "\n",
        "ohe = OneHotEncoder(sparse_output=False, drop='first')\n",
        "ohe_encoded = ohe.fit_transform(df[ohe_columns])\n",
        "ohe_feature_names = ohe.get_feature_names_out(ohe_columns).tolist()\n",
        "encoded_ohe_data = pd.DataFrame(ohe_encoded, columns=ohe_feature_names)\n",
        "\n",
        "label_encoder = LabelEncoder()\n",
        "for col in label_columns:\n",
        "    df[col] = label_encoder.fit_transform(df[col])\n",
        "df[label_columns]"
      ]
    },
    {
      "cell_type": "code",
      "execution_count": null,
      "metadata": {
        "ExecuteTime": {
          "end_time": "2024-12-07T08:51:20.047160Z",
          "start_time": "2024-12-07T08:51:19.609224Z"
        },
        "id": "ItSCTtVmVFmE"
      },
      "outputs": [],
      "source": [
        "X = pd.concat([df[label_columns], encoded_ohe_data, num_df], axis=1)\n",
        "y = df['salary']"
      ]
    },
    {
      "cell_type": "code",
      "execution_count": null,
      "metadata": {
        "ExecuteTime": {
          "end_time": "2024-12-07T09:23:08.854015Z",
          "start_time": "2024-12-07T09:23:08.346105Z"
        },
        "id": "xRuieLuUVFmP",
        "outputId": "fd0ca9b3-b5ff-49fa-83ef-d1953c4eea66"
      },
      "outputs": [
        {
          "name": "stdout",
          "output_type": "stream",
          "text": [
            "Размеры выборок: Обучающая (425714, 70), Валидационная (141905, 70), Тестовая (141905, 70)\n"
          ]
        }
      ],
      "source": [
        "X_train, X_test_val, y_train, y_test_val, = train_test_split(X, y, test_size=0.4, random_state=12345)\n",
        "X_test, X_val, y_test, y_val = train_test_split(X_test_val, y_test_val, test_size=0.5, random_state=12345)\n",
        "\n",
        "print(f'Размеры выборок: Обучающая {X_train.shape}, Валидационная {X_test.shape}, Тестовая {X_val.shape}')"
      ]
    },
    {
      "cell_type": "markdown",
      "metadata": {
        "id": "H3xGYHbBVFmU"
      },
      "source": [
        "### DecisionTreeRegressor"
      ]
    },
    {
      "cell_type": "code",
      "execution_count": null,
      "metadata": {
        "ExecuteTime": {
          "end_time": "2024-12-07T08:52:12.407011Z",
          "start_time": "2024-12-07T08:51:35.863896Z"
        },
        "id": "YfzSOUFHVFmX",
        "outputId": "62d7cf29-9360-44ac-81dd-3b07268515cf"
      },
      "outputs": [
        {
          "name": "stdout",
          "output_type": "stream",
          "text": [
            "Fitting 3 folds for each of 28 candidates, totalling 84 fits\n",
            "[CV] END regressor__max_depth=10, regressor__min_samples_leaf=1, regressor__min_samples_split=2; total time=   2.2s\n",
            "[CV] END regressor__max_depth=10, regressor__min_samples_leaf=1, regressor__min_samples_split=2; total time=   2.4s\n",
            "[CV] END regressor__max_depth=10, regressor__min_samples_leaf=1, regressor__min_samples_split=5; total time=   2.5s\n",
            "[CV] END regressor__max_depth=10, regressor__min_samples_leaf=1, regressor__min_samples_split=2; total time=   2.7s\n",
            "[CV] END regressor__max_depth=10, regressor__min_samples_leaf=2, regressor__min_samples_split=2; total time=   2.6s\n",
            "[CV] END regressor__max_depth=10, regressor__min_samples_leaf=2, regressor__min_samples_split=5; total time=   2.6s\n",
            "[CV] END regressor__max_depth=10, regressor__min_samples_leaf=2, regressor__min_samples_split=2; total time=   2.7s\n",
            "[CV] END regressor__max_depth=10, regressor__min_samples_leaf=2, regressor__min_samples_split=5; total time=   2.8s\n",
            "[CV] END regressor__max_depth=10, regressor__min_samples_leaf=2, regressor__min_samples_split=2; total time=   2.8s\n",
            "[CV] END regressor__max_depth=10, regressor__min_samples_leaf=2, regressor__min_samples_split=5; total time=   2.8s\n",
            "[CV] END regressor__max_depth=10, regressor__min_samples_leaf=1, regressor__min_samples_split=5; total time=   2.9s\n",
            "[CV] END regressor__max_depth=10, regressor__min_samples_leaf=1, regressor__min_samples_split=5; total time=   3.0s\n",
            "[CV] END regressor__max_depth=11, regressor__min_samples_leaf=1, regressor__min_samples_split=2; total time=   2.6s\n",
            "[CV] END regressor__max_depth=11, regressor__min_samples_leaf=1, regressor__min_samples_split=2; total time=   2.5s\n",
            "[CV] END regressor__max_depth=11, regressor__min_samples_leaf=1, regressor__min_samples_split=2; total time=   2.6s\n",
            "[CV] END regressor__max_depth=11, regressor__min_samples_leaf=1, regressor__min_samples_split=5; total time=   2.5s\n",
            "[CV] END regressor__max_depth=11, regressor__min_samples_leaf=2, regressor__min_samples_split=2; total time=   2.4s\n",
            "[CV] END regressor__max_depth=11, regressor__min_samples_leaf=1, regressor__min_samples_split=5; total time=   2.4s\n",
            "[CV] END regressor__max_depth=11, regressor__min_samples_leaf=1, regressor__min_samples_split=5; total time=   2.6s\n",
            "[CV] END regressor__max_depth=11, regressor__min_samples_leaf=2, regressor__min_samples_split=5; total time=   2.5s\n",
            "[CV] END regressor__max_depth=11, regressor__min_samples_leaf=2, regressor__min_samples_split=2; total time=   2.5s\n",
            "[CV] END regressor__max_depth=11, regressor__min_samples_leaf=2, regressor__min_samples_split=5; total time=   2.4s\n",
            "[CV] END regressor__max_depth=11, regressor__min_samples_leaf=2, regressor__min_samples_split=5; total time=   2.4s\n",
            "[CV] END regressor__max_depth=11, regressor__min_samples_leaf=2, regressor__min_samples_split=2; total time=   2.6s\n",
            "[CV] END regressor__max_depth=12, regressor__min_samples_leaf=1, regressor__min_samples_split=2; total time=   2.7s\n",
            "[CV] END regressor__max_depth=12, regressor__min_samples_leaf=1, regressor__min_samples_split=2; total time=   2.6s\n",
            "[CV] END regressor__max_depth=12, regressor__min_samples_leaf=1, regressor__min_samples_split=5; total time=   2.5s\n",
            "[CV] END regressor__max_depth=12, regressor__min_samples_leaf=2, regressor__min_samples_split=2; total time=   2.4s\n",
            "[CV] END regressor__max_depth=12, regressor__min_samples_leaf=1, regressor__min_samples_split=2; total time=   2.7s\n",
            "[CV] END regressor__max_depth=12, regressor__min_samples_leaf=1, regressor__min_samples_split=5; total time=   2.7s\n",
            "[CV] END regressor__max_depth=12, regressor__min_samples_leaf=1, regressor__min_samples_split=5; total time=   2.7s\n",
            "[CV] END regressor__max_depth=12, regressor__min_samples_leaf=2, regressor__min_samples_split=2; total time=   2.7s\n",
            "[CV] END regressor__max_depth=12, regressor__min_samples_leaf=2, regressor__min_samples_split=2; total time=   2.7s\n",
            "[CV] END regressor__max_depth=12, regressor__min_samples_leaf=2, regressor__min_samples_split=5; total time=   2.7s\n",
            "[CV] END regressor__max_depth=12, regressor__min_samples_leaf=2, regressor__min_samples_split=5; total time=   2.7s\n",
            "[CV] END regressor__max_depth=12, regressor__min_samples_leaf=2, regressor__min_samples_split=5; total time=   2.8s\n",
            "[CV] END regressor__max_depth=13, regressor__min_samples_leaf=1, regressor__min_samples_split=2; total time=   2.7s\n",
            "[CV] END regressor__max_depth=13, regressor__min_samples_leaf=1, regressor__min_samples_split=2; total time=   2.7s\n",
            "[CV] END regressor__max_depth=13, regressor__min_samples_leaf=1, regressor__min_samples_split=2; total time=   2.9s\n",
            "[CV] END regressor__max_depth=13, regressor__min_samples_leaf=1, regressor__min_samples_split=5; total time=   2.7s\n",
            "[CV] END regressor__max_depth=13, regressor__min_samples_leaf=1, regressor__min_samples_split=5; total time=   2.9s\n",
            "[CV] END regressor__max_depth=13, regressor__min_samples_leaf=2, regressor__min_samples_split=2; total time=   2.9s\n",
            "[CV] END regressor__max_depth=13, regressor__min_samples_leaf=1, regressor__min_samples_split=5; total time=   3.1s\n",
            "[CV] END regressor__max_depth=13, regressor__min_samples_leaf=2, regressor__min_samples_split=2; total time=   2.8s\n",
            "[CV] END regressor__max_depth=13, regressor__min_samples_leaf=2, regressor__min_samples_split=5; total time=   2.9s\n",
            "[CV] END regressor__max_depth=13, regressor__min_samples_leaf=2, regressor__min_samples_split=5; total time=   3.0s\n",
            "[CV] END regressor__max_depth=13, regressor__min_samples_leaf=2, regressor__min_samples_split=2; total time=   3.2s\n",
            "[CV] END regressor__max_depth=13, regressor__min_samples_leaf=2, regressor__min_samples_split=5; total time=   3.1s\n",
            "[CV] END regressor__max_depth=14, regressor__min_samples_leaf=1, regressor__min_samples_split=2; total time=   3.2s\n",
            "[CV] END regressor__max_depth=14, regressor__min_samples_leaf=1, regressor__min_samples_split=2; total time=   3.2s\n",
            "[CV] END regressor__max_depth=14, regressor__min_samples_leaf=1, regressor__min_samples_split=2; total time=   3.2s\n",
            "[CV] END regressor__max_depth=14, regressor__min_samples_leaf=1, regressor__min_samples_split=5; total time=   3.2s\n",
            "[CV] END regressor__max_depth=14, regressor__min_samples_leaf=1, regressor__min_samples_split=5; total time=   3.0s\n",
            "[CV] END regressor__max_depth=14, regressor__min_samples_leaf=2, regressor__min_samples_split=2; total time=   3.0s\n",
            "[CV] END regressor__max_depth=14, regressor__min_samples_leaf=1, regressor__min_samples_split=5; total time=   3.1s\n",
            "[CV] END regressor__max_depth=14, regressor__min_samples_leaf=2, regressor__min_samples_split=2; total time=   3.0s\n",
            "[CV] END regressor__max_depth=14, regressor__min_samples_leaf=2, regressor__min_samples_split=2; total time=   3.2s\n",
            "[CV] END regressor__max_depth=14, regressor__min_samples_leaf=2, regressor__min_samples_split=5; total time=   3.0s\n",
            "[CV] END regressor__max_depth=14, regressor__min_samples_leaf=2, regressor__min_samples_split=5; total time=   3.0s\n",
            "[CV] END regressor__max_depth=14, regressor__min_samples_leaf=2, regressor__min_samples_split=5; total time=   3.0s\n",
            "[CV] END regressor__max_depth=15, regressor__min_samples_leaf=1, regressor__min_samples_split=2; total time=   2.9s\n",
            "[CV] END regressor__max_depth=15, regressor__min_samples_leaf=1, regressor__min_samples_split=2; total time=   2.8s\n",
            "[CV] END regressor__max_depth=15, regressor__min_samples_leaf=1, regressor__min_samples_split=2; total time=   3.1s\n",
            "[CV] END regressor__max_depth=15, regressor__min_samples_leaf=1, regressor__min_samples_split=5; total time=   2.8s\n",
            "[CV] END regressor__max_depth=15, regressor__min_samples_leaf=1, regressor__min_samples_split=5; total time=   2.9s\n",
            "[CV] END regressor__max_depth=15, regressor__min_samples_leaf=2, regressor__min_samples_split=2; total time=   2.9s\n",
            "[CV] END regressor__max_depth=15, regressor__min_samples_leaf=1, regressor__min_samples_split=5; total time=   3.0s\n",
            "[CV] END regressor__max_depth=15, regressor__min_samples_leaf=2, regressor__min_samples_split=2; total time=   3.0s\n",
            "[CV] END regressor__max_depth=15, regressor__min_samples_leaf=2, regressor__min_samples_split=2; total time=   3.0s\n",
            "[CV] END regressor__max_depth=15, regressor__min_samples_leaf=2, regressor__min_samples_split=5; total time=   2.9s\n",
            "[CV] END regressor__max_depth=15, regressor__min_samples_leaf=2, regressor__min_samples_split=5; total time=   3.0s\n",
            "[CV] END regressor__max_depth=15, regressor__min_samples_leaf=2, regressor__min_samples_split=5; total time=   3.3s\n",
            "[CV] END regressor__max_depth=16, regressor__min_samples_leaf=1, regressor__min_samples_split=2; total time=   3.1s\n",
            "[CV] END regressor__max_depth=16, regressor__min_samples_leaf=1, regressor__min_samples_split=2; total time=   3.0s\n",
            "[CV] END regressor__max_depth=16, regressor__min_samples_leaf=1, regressor__min_samples_split=2; total time=   3.1s\n",
            "[CV] END regressor__max_depth=16, regressor__min_samples_leaf=1, regressor__min_samples_split=5; total time=   2.8s\n",
            "[CV] END regressor__max_depth=16, regressor__min_samples_leaf=1, regressor__min_samples_split=5; total time=   3.1s\n",
            "[CV] END regressor__max_depth=16, regressor__min_samples_leaf=1, regressor__min_samples_split=5; total time=   3.1s\n",
            "[CV] END regressor__max_depth=16, regressor__min_samples_leaf=2, regressor__min_samples_split=2; total time=   3.0s\n",
            "[CV] END regressor__max_depth=16, regressor__min_samples_leaf=2, regressor__min_samples_split=5; total time=   2.7s\n",
            "[CV] END regressor__max_depth=16, regressor__min_samples_leaf=2, regressor__min_samples_split=2; total time=   2.9s\n",
            "[CV] END regressor__max_depth=16, regressor__min_samples_leaf=2, regressor__min_samples_split=2; total time=   2.9s\n",
            "[CV] END regressor__max_depth=16, regressor__min_samples_leaf=2, regressor__min_samples_split=5; total time=   2.7s\n",
            "[CV] END regressor__max_depth=16, regressor__min_samples_leaf=2, regressor__min_samples_split=5; total time=   2.7s\n",
            "Лучшие параметры: {'regressor__max_depth': 16, 'regressor__min_samples_leaf': 2, 'regressor__min_samples_split': 5}\n",
            "Корень из среднеквадратичной ошибки (RMSE): 51413.94195272767\n",
            "R² Score: 0.494744319191312\n",
            "Средняя абсолютная ошибка (MAE): 26090.647599800785\n",
            "Средняя абсолютная процентная ошибка (SMAPE): 29.31%\n",
            "Медианная абсолютная ошибка (MedAE): 15788.492256748024\n"
          ]
        }
      ],
      "source": [
        "model_dtr = DecisionTreeRegressor(random_state=12345)\n",
        "\n",
        "regressor = TransformedTargetRegressor(\n",
        "    regressor=model_dtr,\n",
        "    func=np.log,\n",
        "    inverse_func=np.exp\n",
        ")\n",
        "\n",
        "\n",
        "param_grid = {\n",
        "    'regressor__max_depth': [10, 11, 12, 13, 14, 15, 16],\n",
        "    'regressor__min_samples_split': [2, 5],\n",
        "    'regressor__min_samples_leaf': [1, 2]\n",
        "}\n",
        "\n",
        "grid_search = GridSearchCV(\n",
        "    estimator=regressor,\n",
        "    param_grid=param_grid,\n",
        "    cv=3,\n",
        "    scoring='neg_mean_squared_error',\n",
        "    n_jobs=-1,\n",
        "    verbose=2\n",
        ")\n",
        "\n",
        "grid_search.fit(X_train, y_train)\n",
        "\n",
        "best_model = grid_search.best_estimator_\n",
        "best_params = grid_search.best_params_\n",
        "print(f'Лучшие параметры: {best_params}')\n",
        "\n",
        "\n",
        "y_pred = best_model.predict(X_test)\n",
        "culc_metrics(y_test, y_pred)"
      ]
    },
    {
      "cell_type": "markdown",
      "metadata": {
        "collapsed": false,
        "id": "JbyHMD0-VFme"
      },
      "source": [
        "### LinearRegression"
      ]
    },
    {
      "cell_type": "code",
      "execution_count": null,
      "metadata": {
        "ExecuteTime": {
          "end_time": "2024-12-07T16:23:44.936075Z",
          "start_time": "2024-12-07T16:23:40.434565Z"
        },
        "id": "d78y0b4wVFmi",
        "outputId": "16dbf204-82dc-4075-8bd6-986ef19ebfaf"
      },
      "outputs": [
        {
          "name": "stdout",
          "output_type": "stream",
          "text": [
            "Лучшие параметры: {'alpha': 10}\n",
            "Лучший RMSE на VAL кросс-валидации: 11602114729.5144\n"
          ]
        }
      ],
      "source": [
        "param_grid = {\n",
        "    'alpha': [0.01, 0.1, 1, 10, 100]\n",
        "}\n",
        "\n",
        "kfold = KFold(n_splits=5, shuffle=True, random_state=42)\n",
        "\n",
        "grid_search = GridSearchCV(\n",
        "    estimator=Ridge(),\n",
        "    param_grid=param_grid,\n",
        "    scoring='neg_mean_squared_error',\n",
        "    cv=kfold\n",
        ")\n",
        "\n",
        "grid_search.fit(X_train, y_train)\n",
        "\n",
        "best_params = grid_search.best_params_\n",
        "best_score = -grid_search.best_score_\n",
        "\n",
        "print(f\"Лучшие параметры: {best_params}\")\n",
        "print(f\"Лучший RMSE на VAL кросс-валидации: {best_score:.4f}\")"
      ]
    },
    {
      "cell_type": "code",
      "execution_count": null,
      "metadata": {
        "id": "IxiXxco_VFml",
        "outputId": "dbdad5fe-337c-49fd-fb28-caf817d26aea"
      },
      "outputs": [
        {
          "name": "stdout",
          "output_type": "stream",
          "text": [
            "Корень из среднеквадратичной ошибки (RMSE): 64151.253113509396\n",
            "R² Score: 0.2133895932442882\n",
            "Средняя абсолютная ошибка (MAE): 32800.139580397095\n",
            "Средняя абсолютная процентная ошибка (SMAPE): 36.36%\n",
            "Медианная абсолютная ошибка (MedAE): 23599.38339362858\n"
          ]
        }
      ],
      "source": [
        "best_model = grid_search.best_estimator_\n",
        "best_params = grid_search.best_params_\n",
        "\n",
        "y_pred = best_model.predict(X_test)\n",
        "culc_metrics(y_test, y_pred)"
      ]
    },
    {
      "cell_type": "markdown",
      "metadata": {
        "id": "r2ukkbAqVPNw"
      },
      "source": [
        "### RandomForestRegressor"
      ]
    },
    {
      "cell_type": "code",
      "execution_count": null,
      "metadata": {
        "colab": {
          "base_uri": "https://localhost:8080/"
        },
        "id": "5q8iNze2N_AV",
        "outputId": "01e24ff9-dee4-4899-a861-1b6282255021"
      },
      "outputs": [
        {
          "name": "stdout",
          "output_type": "stream",
          "text": [
            "Корень из среднеквадратичной ошибки (RMSE): 44484.30448880008\n",
            "R² Score: 0.6217638720661233\n",
            "Средняя абсолютная ошибка (MAE): 21484.423670028984\n",
            "Средняя абсолютная процентная ошибка (SMAPE): 24.32%\n",
            "Медианная абсолютная ошибка (MedAE): 12514.5\n"
          ]
        }
      ],
      "source": [
        "model = RandomForestRegressor(n_estimators = 100, random_state=123)\n",
        "\n",
        "model.fit(X_train, y_train)\n",
        "y_pred = model.predict(X_test)\n",
        "\n",
        "culc_metrics(y_test, y_pred)"
      ]
    },
    {
      "cell_type": "markdown",
      "metadata": {
        "id": "81WZXtdbsPPz"
      },
      "source": [
        "### CatBoost"
      ]
    },
    {
      "cell_type": "code",
      "execution_count": null,
      "metadata": {
        "id": "vQWblfBosPPz"
      },
      "outputs": [],
      "source": [
        "X = pd.concat([df[label_columns], encoded_ohe_data, num_df, df[text_columns]], axis=1)\n",
        "y = df['salary']\n",
        "\n",
        "X_train, X_test, y_train, y_test = train_test_split(X, y, test_size=0.4, random_state=12345)\n",
        "\n",
        "text_features_indices = [X.columns.get_loc(col) for col in text_columns]"
      ]
    },
    {
      "cell_type": "code",
      "execution_count": null,
      "metadata": {
        "id": "ZzcY2yFLsPP0",
        "outputId": "0e3f8bb1-b436-4fbf-aea7-58681c0fc43b"
      },
      "outputs": [
        {
          "name": "stdout",
          "output_type": "stream",
          "text": [
            "Корень из среднеквадратичной ошибки (RMSE): 72738.67567411887\n",
            "R² Score: 0.069107422050953\n",
            "Средняя абсолютная ошибка (MAE): 41696.838558920696\n",
            "Средняя абсолютная процентная ошибка (SMAPE): 45.99%\n",
            "Медианная абсолютная ошибка (MedAE): 34411.85295931041\n"
          ]
        }
      ],
      "source": [
        "model = CatBoostRegressor(iterations=1500, learning_rate=0.0001, depth=6, verbose=0)\n",
        "model.fit(X_train, y_train, text_features=text_features_indices)\n",
        "y_pred = model.predict(X_test)\n",
        "\n",
        "culc_metrics(y_test, y_pred)"
      ]
    },
    {
      "cell_type": "markdown",
      "metadata": {
        "id": "jer3RoBksPP0"
      },
      "source": [
        "Модель с текстовыми колонками работает очень долго\n",
        "Стоит попробовать без них"
      ]
    },
    {
      "cell_type": "code",
      "execution_count": null,
      "metadata": {
        "id": "uoPDZOi8sPP0"
      },
      "outputs": [],
      "source": [
        "X = pd.concat([df[label_columns], encoded_ohe_data, num_df], axis=1)\n",
        "y = df['salary']\n",
        "\n",
        "X_train, X_test, y_train, y_test = train_test_split(X, y, test_size=0.4, random_state=12345)"
      ]
    },
    {
      "cell_type": "code",
      "execution_count": null,
      "metadata": {
        "id": "Gw2iEhTusPP0",
        "outputId": "7960d9e1-4db9-4af3-86b2-9f047542fe21"
      },
      "outputs": [
        {
          "name": "stdout",
          "output_type": "stream",
          "text": [
            "Корень из среднеквадратичной ошибки (RMSE): 73759.42644008527\n",
            "R² Score: 0.04279744307284694\n",
            "Средняя абсолютная ошибка (MAE): 41187.002324358386\n",
            "Средняя абсолютная процентная ошибка (SMAPE): 45.45%\n",
            "Медианная абсолютная ошибка (MedAE): 33597.586754171665\n"
          ]
        }
      ],
      "source": [
        "model = CatBoostRegressor(iterations=1500, learning_rate=0.0001, depth=6, verbose=0)\n",
        "model.fit(X_train, y_train)\n",
        "y_pred = model.predict(X_test)\n",
        "\n",
        "culc_metrics(y_test, y_pred)"
      ]
    },
    {
      "cell_type": "markdown",
      "metadata": {
        "id": "R1QVCWvDsPP1"
      },
      "source": [
        "Модель отработала за 16 секунд, rmse остался на том же уровне, но r2 сильно упал\n",
        "Стоит попробовать кросс-валидацию и оптимизацию гиперпараметров"
      ]
    },
    {
      "cell_type": "code",
      "execution_count": null,
      "metadata": {
        "id": "sqd6bG8ZsPP1",
        "outputId": "320e78ec-57bd-4189-8c96-72ddcf998afa"
      },
      "outputs": [
        {
          "name": "stdout",
          "output_type": "stream",
          "text": [
            "Fitting 3 folds for each of 120 candidates, totalling 360 fits\n",
            "Корень из среднеквадратичной ошибки (RMSE): 53996.9639177637\n",
            "R² Score: 0.48701168692199803\n",
            "Средняя абсолютная ошибка (MAE): 29299.93847814121\n",
            "Средняя абсолютная процентная ошибка (SMAPE): 32.66%\n",
            "Медианная абсолютная ошибка (MedAE): 20747.6798167968\n",
            "Best parameters found:  {'depth': 6, 'iterations': 1250, 'learning_rate': 0.01}\n"
          ]
        }
      ],
      "source": [
        "model = CatBoostRegressor(iterations=1500, learning_rate=0.0001, depth=6, verbose=0)\n",
        "\n",
        "param_grid = {\n",
        "    'depth': [5, 6, 7, 8],\n",
        "    'learning_rate': [0.001, 0.005, 0.01, 0.02, 0.05, 0.1],\n",
        "    'iterations': [1000, 1250, 1500, 1750, 2000]\n",
        "}\n",
        "\n",
        "grid_search = GridSearchCV(estimator=model, param_grid=param_grid, scoring='neg_mean_squared_error', cv=3, verbose=1)\n",
        "grid_search.fit(X_train, y_train)\n",
        "\n",
        "best_model = grid_search.best_estimator_\n",
        "y_pred = best_model.predict(X_test)\n",
        "\n",
        "culc_metrics(y_test, y_pred)\n",
        "print(\"Best parameters found: \", grid_search.best_params_)"
      ]
    },
    {
      "cell_type": "code",
      "execution_count": null,
      "metadata": {
        "id": "nkuxiSEAsPP1"
      },
      "outputs": [],
      "source": [
        "X = pd.concat([df[label_columns], encoded_ohe_data, num_df, df[text_columns]], axis=1)\n",
        "y = df['salary']\n",
        "\n",
        "X_train, X_test, y_train, y_test = train_test_split(X, y, test_size=0.4, random_state=12345)\n",
        "\n",
        "text_features_indices = [X.columns.get_loc(col) for col in text_columns]"
      ]
    },
    {
      "cell_type": "code",
      "execution_count": null,
      "metadata": {
        "id": "awtFr41usPP1",
        "outputId": "fc59c3dd-427c-40a1-e609-15e7aba5ec45"
      },
      "outputs": [
        {
          "name": "stdout",
          "output_type": "stream",
          "text": [
            "Корень из среднеквадратичной ошибки (RMSE): 54271.6901434194\n",
            "R² Score: 0.48177843495127703\n",
            "Средняя абсолютная ошибка (MAE): 29581.659199920625\n",
            "Средняя абсолютная процентная ошибка (SMAPE): 33.25%\n",
            "Медианная абсолютная ошибка (MedAE): 21173.341701797523\n"
          ]
        }
      ],
      "source": [
        "model = CatBoostRegressor(iterations=1500, learning_rate=0.01, depth=6, verbose=0)\n",
        "model.fit(X_train, y_train, text_features=text_features_indices)\n",
        "y_pred = model.predict(X_test)\n",
        "\n",
        "culc_metrics(y_test, y_pred)"
      ]
    },
    {
      "cell_type": "markdown",
      "metadata": {
        "id": "Yd_JAYqCUHZe"
      },
      "source": [
        "### XGBoost"
      ]
    },
    {
      "cell_type": "code",
      "execution_count": null,
      "metadata": {
        "id": "6Pmv0mmFUHZe",
        "outputId": "97f09a9a-aaaa-4030-e5dd-5f1cf276252b"
      },
      "outputs": [
        {
          "name": "stdout",
          "output_type": "stream",
          "text": [
            "Fitting 3 folds for each of 36 candidates, totalling 108 fits\n",
            "Корень из среднеквадратичной ошибки (RMSE): 55360.58799637801\n",
            "R² Score: 0.4607748045033424\n",
            "Средняя абсолютная ошибка (MAE): 30357.43626278008\n",
            "Средняя абсолютная процентная ошибка (SMAPE): 34.26%\n",
            "Медианная абсолютная ошибка (MedAE): 21872.0234375\n",
            "Best parameters found:  {'learning_rate': 0.001, 'max_depth': 7, 'n_estimators': 2000}\n"
          ]
        }
      ],
      "source": [
        "X = pd.concat([df[label_columns], encoded_ohe_data, num_df], axis=1)\n",
        "y = df['salary']\n",
        "\n",
        "X_train, X_test, y_train, y_test = train_test_split(X, y, test_size=0.4, random_state=12345)\n",
        "\n",
        "model = XGBRegressor(objective='reg:squarederror', n_estimators=1250, learning_rate=0.01, max_depth=6, verbosity=0)\n",
        "param_grid = {\n",
        "    'max_depth': [5, 6, 7, 8],\n",
        "    'learning_rate': [0.001, 0.01, 0.1],\n",
        "    'n_estimators': [1000, 1500, 2000]\n",
        "}\n",
        "grid_search = GridSearchCV(estimator=model, param_grid=param_grid, scoring='neg_mean_squared_error', cv=3, verbose=1)\n",
        "grid_search.fit(X_train, y_train)\n",
        "\n",
        "best_model = grid_search.best_estimator_\n",
        "y_pred = best_model.predict(X_test)\n",
        "\n",
        "culc_metrics(y_test, y_pred)\n",
        "print(\"Best parameters found: \", grid_search.best_params_)"
      ]
    },
    {
      "cell_type": "markdown",
      "source": [
        "### LightGBM"
      ],
      "metadata": {
        "id": "CZaPpmd6VMEU"
      }
    },
    {
      "cell_type": "code",
      "source": [
        "X = pd.concat([df[label_columns], encoded_ohe_data, num_df], axis=1)\n",
        "y = df['salary']\n",
        "\n",
        "new_columns = [\n",
        "    'area_name', 'address_city', 'address_metro_station_name',\n",
        "    'address_metro_line_name', 'address_metro_stations_0_line_name',\n",
        "    'employer_name', 'professional_roles_0_name',\n",
        "    'address_metro_stations_3_station_name',\n",
        "    'address_metro_stations_3_line_name', 'department_name', 'category',\n",
        "    'premium_1', 'has_test_1', 'response_letter_required_1',\n",
        "    'salary_currency_BYR', 'salary_currency_EUR', 'salary_currency_GEL',\n",
        "    'salary_currency_KGS', 'salary_currency_KZT', 'salary_currency_RUR',\n",
        "    'salary_currency_USD', 'salary_currency_UZS', 'salary_gross_1',\n",
        "    'type_name_Закрытая', 'type_name_Открытая', 'type_name_Рекламная',\n",
        "    'archived_1', 'employer_accredited_it_employer_1', 'employer_trusted_1',\n",
        "    'schedule_name_Гибкий_график', 'schedule_name_Полный_день',\n",
        "    'schedule_name_Сменный_график', 'schedule_name_Удаленная_работа',\n",
        "    'accept_temporary_1', 'accept_incomplete_resumes_1',\n",
        "    'experience_name_Нет_опыта', 'experience_name_От_1_года_до_3_лет',\n",
        "    'experience_name_От_3_до_6_лет', 'employment_name_Полная_занятость',\n",
        "    'employment_name_Проектная_работа', 'employment_name_Стажировка',\n",
        "    'employment_name_Частичная_занятость',\n",
        "    'working_time_intervals_0_name_Можно_сменами_по_4_6_часов_в_день',\n",
        "    'working_time_modes_0_name_С_началом_дня_после_16_00',\n",
        "    'working_days_0_name_По_субботам_и_воскресеньям',\n",
        "    'branding_type_MAKEUP', 'branding_type_Unknown',\n",
        "    'branding_tariff_Unknown', 'insider_interview_id_1',\n",
        "    'brand_snippet_logo_Unknown', 'brand_snippet_picture_Unknown',\n",
        "    'brand_snippet_background_color__EF3124',\n",
        "    'brand_snippet_background_color__FF5B29',\n",
        "    'brand_snippet_background_color_Unknown',\n",
        "    'brand_snippet_background_gradient_angle_134_0',\n",
        "    'brand_snippet_background_gradient_angle_200_0',\n",
        "    'brand_snippet_background_gradient_angle_206_43',\n",
        "    'brand_snippet_background_gradient_angle_67_0',\n",
        "    'brand_snippet_background_gradient_angle_Unknown',\n",
        "    'brand_snippet_background_gradient_color_list_0_position_0_0',\n",
        "    'brand_snippet_background_gradient_color_list_0_position_0_52',\n",
        "    'brand_snippet_background_gradient_color_list_0_position_6_96',\n",
        "    'brand_snippet_background_gradient_color_list_0_position_Unknown',\n",
        "    'brand_snippet_background_gradient_color_list_1_position_40_0',\n",
        "    'brand_snippet_background_gradient_color_list_1_position_88_86',\n",
        "    'brand_snippet_background_gradient_color_list_1_position_90_95',\n",
        "    'brand_snippet_background_gradient_color_list_1_position_94_48',\n",
        "    'brand_snippet_background_gradient_color_list_1_position_Unknown',\n",
        "    'name_length', 'length'\n",
        "]\n",
        "\n",
        "X.columns = new_columns\n",
        "\n",
        "X_train, X_test, y_train, y_test = train_test_split(X, y, test_size=0.4, random_state=12345)"
      ],
      "metadata": {
        "id": "Fc-o0P43gear"
      },
      "execution_count": null,
      "outputs": []
    },
    {
      "cell_type": "code",
      "source": [
        "model = lgb.LGBMRegressor(objective='regression', n_estimators=1250, learning_rate=0.01, max_depth=6, verbosity=-1)\n",
        "\n",
        "param_grid = {\n",
        "    'max_depth': [5, 6, 7, 8],\n",
        "    'learning_rate': [0.001, 0.01, 0.1],\n",
        "    'n_estimators': [1000, 1500, 2000]\n",
        "}\n",
        "\n",
        "grid_search = GridSearchCV(estimator=model, param_grid=param_grid, scoring='neg_mean_squared_error', cv=3, verbose=1)\n",
        "grid_search.fit(X_train, y_train)\n",
        "\n",
        "best_model = grid_search.best_estimator_\n",
        "y_pred = best_model.predict(X_test)\n",
        "\n",
        "culc_metrics(y_test, y_pred)\n",
        "print(\"Best parameters found: \", grid_search.best_params_)"
      ],
      "metadata": {
        "colab": {
          "base_uri": "https://localhost:8080/"
        },
        "id": "3pEXcovgeE-j",
        "outputId": "26970249-cc12-4835-8378-987ebb1e2013"
      },
      "execution_count": null,
      "outputs": [
        {
          "output_type": "stream",
          "name": "stdout",
          "text": [
            "Fitting 3 folds for each of 36 candidates, totalling 108 fits\n",
            "Корень из среднеквадратичной ошибки (RMSE): 53473.19215970539\n",
            "R² Score: 0.496915415856513\n",
            "Средняя абсолютная ошибка (MAE): 26745.592593777295\n",
            "Средняя абсолютная процентная ошибка (SMAPE): 29.52%\n",
            "Медианная абсолютная ошибка (MedAE): 17557.40014850231\n",
            "Best parameters found:  {'learning_rate': 0.01, 'max_depth': 8, 'n_estimators': 1500}\n"
          ]
        }
      ]
    }
  ],
  "metadata": {
    "colab": {
      "provenance": [],
      "toc_visible": true
    },
    "kernelspec": {
      "display_name": ".venv",
      "language": "python",
      "name": "python3"
    },
    "language_info": {
      "codemirror_mode": {
        "name": "ipython",
        "version": 3
      },
      "file_extension": ".py",
      "mimetype": "text/x-python",
      "name": "python",
      "nbconvert_exporter": "python",
      "pygments_lexer": "ipython3",
      "version": "3.10.4"
    }
  },
  "nbformat": 4,
  "nbformat_minor": 0
}