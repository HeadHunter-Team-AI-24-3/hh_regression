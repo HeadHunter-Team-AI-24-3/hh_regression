{
 "cells": [
  {
   "cell_type": "code",
   "execution_count": 22,
   "metadata": {},
   "outputs": [],
   "source": [
    "import pandas as pd\n",
    "pd.set_option('display.max_columns', None)\n",
    "from catboost import CatBoostRegressor\n",
    "from sklearn.metrics import mean_squared_error, r2_score\n",
    "from sklearn.preprocessing import OneHotEncoder, LabelEncoder, StandardScaler\n",
    "from sklearn.model_selection import train_test_split, GridSearchCV\n",
    "import warnings\n",
    "warnings.filterwarnings(\"ignore\")"
   ]
  },
  {
   "cell_type": "code",
   "execution_count": 23,
   "metadata": {},
   "outputs": [
    {
     "data": {
      "text/plain": [
       "(709524, 43)"
      ]
     },
     "execution_count": 23,
     "metadata": {},
     "output_type": "execute_result"
    }
   ],
   "source": [
    "df = pd.read_csv('final_data.csv')\n",
    "df.salary_gross.fillna(False, inplace=True)\n",
    "df.shape"
   ]
  },
  {
   "cell_type": "code",
   "execution_count": 9,
   "metadata": {},
   "outputs": [],
   "source": [
    "cat_columns = ['premium', 'has_test', 'response_letter_required', 'area_name', 'salary_currency', 'salary_gross', 'type_name', 'address_city', 'address_metro_station_name', 'address_metro_line_name', 'address_metro_stations_0_line_name', 'archived', 'employer_name', 'employer_accredited_it_employer', 'employer_trusted', 'schedule_name', 'accept_temporary', 'professional_roles_0_name', 'accept_incomplete_resumes', 'experience_name', 'employment_name', 'address_metro_stations_3_station_name', 'address_metro_stations_3_line_name', 'working_time_intervals_0_name', 'working_time_modes_0_name', 'working_days_0_name', 'branding_type', 'branding_tariff', 'department_name', 'insider_interview_id', 'brand_snippet_logo', 'brand_snippet_picture', 'brand_snippet_background_color', 'brand_snippet_background_gradient_angle', 'brand_snippet_background_gradient_color_list_0_position', 'brand_snippet_background_gradient_color_list_1_position', 'category']\n",
    "text_columns = ['name', 'snippet_requirement', 'snippet_responsibility']\n",
    "num_columns = ['name_length', 'length']"
   ]
  },
  {
   "cell_type": "code",
   "execution_count": 10,
   "metadata": {},
   "outputs": [],
   "source": [
    "scaler = StandardScaler()\n",
    "num_df = pd.DataFrame(scaler.fit_transform(df[num_columns]), columns=num_columns)"
   ]
  },
  {
   "cell_type": "code",
   "execution_count": 11,
   "metadata": {},
   "outputs": [],
   "source": [
    "label_columns = []\n",
    "ohe_columns = []\n",
    "\n",
    "for column in cat_columns:\n",
    "    if df[column].nunique() > 10:\n",
    "        label_columns.append(column)\n",
    "    else:\n",
    "        ohe_columns.append(column)\n",
    "\n",
    "to_bool = list(df[cat_columns].select_dtypes(include=['bool']).columns)\n",
    "df[['salary_gross', 'employer_accredited_it_employer']] = df[['salary_gross', 'employer_accredited_it_employer']].astype(bool).astype(int)\n",
    "df[to_bool] = df[to_bool].astype(int)\n",
    "\n",
    "ohe = OneHotEncoder(sparse_output=False, drop='first')\n",
    "ohe_encoded = ohe.fit_transform(df[ohe_columns])\n",
    "ohe_feature_names = ohe.get_feature_names_out(ohe_columns).tolist()\n",
    "encoded_ohe_data = pd.DataFrame(ohe_encoded, columns=ohe_feature_names)\n",
    "\n",
    "label_encoder = LabelEncoder()\n",
    "for col in label_columns:\n",
    "    df[col] = label_encoder.fit_transform(df[col])"
   ]
  },
  {
   "cell_type": "markdown",
   "metadata": {},
   "source": [
    "Подготовка данных с текстовыми колонками"
   ]
  },
  {
   "cell_type": "code",
   "execution_count": null,
   "metadata": {},
   "outputs": [],
   "source": [
    "X = pd.concat([df[label_columns], encoded_ohe_data, num_df, df[text_columns]], axis=1)\n",
    "y = df['salary']\n",
    "\n",
    "X_train, X_test, y_train, y_test = train_test_split(X, y, test_size=0.4, random_state=12345)\n",
    "\n",
    "text_features_indices = [X.columns.get_loc(col) for col in text_columns]"
   ]
  },
  {
   "cell_type": "markdown",
   "metadata": {},
   "source": [
    "### CatBoost"
   ]
  },
  {
   "cell_type": "code",
   "execution_count": null,
   "metadata": {},
   "outputs": [
    {
     "name": "stdout",
     "output_type": "stream",
     "text": [
      "Корень из среднеквадратичной ошибки (RMSE): 72738.67567411887\n",
      "R² Score: 0.069107422050953\n"
     ]
    }
   ],
   "source": [
    "model = CatBoostRegressor(iterations=1500, learning_rate=0.0001, depth=6, verbose=0)\n",
    "model.fit(X_train, y_train, text_features=text_features_indices)\n",
    "y_pred = model.predict(X_test)\n",
    "\n",
    "test_mse = mean_squared_error(y_test, y_pred)\n",
    "r2 = r2_score(y_test, y_pred)\n",
    "\n",
    "print(f'Корень из среднеквадратичной ошибки (RMSE): {test_mse**0.5}')\n",
    "print(f\"R² Score: {r2}\")"
   ]
  },
  {
   "cell_type": "markdown",
   "metadata": {},
   "source": [
    "Модель с текстовыми колонками работает очень долго\n",
    "17 минут\n",
    "Стоит попробовать без них"
   ]
  },
  {
   "cell_type": "code",
   "execution_count": 16,
   "metadata": {},
   "outputs": [],
   "source": [
    "X = pd.concat([df[label_columns], encoded_ohe_data, num_df], axis=1)\n",
    "y = df['salary']\n",
    "\n",
    "X_train, X_test, y_train, y_test = train_test_split(X, y, test_size=0.4, random_state=12345)"
   ]
  },
  {
   "cell_type": "code",
   "execution_count": 19,
   "metadata": {},
   "outputs": [
    {
     "name": "stdout",
     "output_type": "stream",
     "text": [
      "Корень из среднеквадратичной ошибки (RMSE): 73759.42644008527\n",
      "R² Score: 0.04279744307284694\n"
     ]
    }
   ],
   "source": [
    "model = CatBoostRegressor(iterations=1500, learning_rate=0.0001, depth=6, verbose=0)\n",
    "model.fit(X_train, y_train)\n",
    "y_pred = model.predict(X_test)\n",
    "\n",
    "test_mse = mean_squared_error(y_test, y_pred)\n",
    "r2 = r2_score(y_test, y_pred)\n",
    "\n",
    "print(f'Корень из среднеквадратичной ошибки (RMSE): {test_mse**0.5}')\n",
    "print(f\"R² Score: {r2}\")"
   ]
  },
  {
   "cell_type": "markdown",
   "metadata": {},
   "source": [
    "Модель отработала за 16 секунд, rmse остался на том же уровне, но r2 сильно упал\n",
    "Стоит попробовать кросс-валидацию и оптимизацию гиперпараметров"
   ]
  },
  {
   "cell_type": "code",
   "execution_count": 20,
   "metadata": {},
   "outputs": [
    {
     "name": "stdout",
     "output_type": "stream",
     "text": [
      "Fitting 3 folds for each of 27 candidates, totalling 81 fits\n",
      "Корень из среднеквадратичной ошибки (RMSE): 53388.5185270501\n",
      "R² Score: 0.498507401337542\n"
     ]
    }
   ],
   "source": [
    "model = CatBoostRegressor(iterations=1500, learning_rate=0.0001, depth=6, verbose=0)\n",
    "\n",
    "param_grid = {\n",
    "    'depth': [4, 6, 10],\n",
    "    'learning_rate': [0.0001, 0.01, 0.1],\n",
    "    'iterations': [500, 1500, 2500]\n",
    "}\n",
    "\n",
    "grid_search = GridSearchCV(estimator=model, param_grid=param_grid, scoring='neg_mean_squared_error', cv=3, verbose=1)\n",
    "grid_search.fit(X_train, y_train)\n",
    "\n",
    "best_model = grid_search.best_estimator_\n",
    "y_pred = best_model.predict(X_test)\n",
    "\n",
    "test_mse = mean_squared_error(y_test, y_pred)\n",
    "r2 = r2_score(y_test, y_pred)\n",
    "\n",
    "print(f'Корень из среднеквадратичной ошибки (RMSE): {test_mse**0.5}')\n",
    "print(f\"R² Score: {r2}\")"
   ]
  },
  {
   "cell_type": "code",
   "execution_count": 21,
   "metadata": {},
   "outputs": [
    {
     "name": "stdout",
     "output_type": "stream",
     "text": [
      "Best parameters found:  {'depth': 6, 'iterations': 1500, 'learning_rate': 0.01}\n"
     ]
    }
   ],
   "source": [
    "print(\"Best parameters found: \", grid_search.best_params_)"
   ]
  }
 ],
 "metadata": {
  "kernelspec": {
   "display_name": ".venv",
   "language": "python",
   "name": "python3"
  },
  "language_info": {
   "codemirror_mode": {
    "name": "ipython",
    "version": 3
   },
   "file_extension": ".py",
   "mimetype": "text/x-python",
   "name": "python",
   "nbconvert_exporter": "python",
   "pygments_lexer": "ipython3",
   "version": "3.10.4"
  }
 },
 "nbformat": 4,
 "nbformat_minor": 2
}
